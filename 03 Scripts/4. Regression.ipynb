{
 "cells": [
  {
   "cell_type": "markdown",
   "id": "6bfe8784",
   "metadata": {},
   "source": [
    "## Content List\n",
    "\n",
    "#### 1. Import libraries & data\n",
    "#### 2. Wrangle & clean data set\n",
    "- Check for Missing values, Duplicates, Extreme Values\n",
    "#### 3. Explore data visually via Scatterplots\n",
    "- Math & Reading Test Scores vs. Enrollment\n",
    "#### 4. Hypothesis\n",
    "#### 5. Linear Regression\n",
    "#### 6. Interpretation & next steps\n",
    "#### 7. Export Visualizations & data"
   ]
  },
  {
   "cell_type": "markdown",
   "id": "9cde9d43",
   "metadata": {},
   "source": [
    "## 1. Import libraries & data"
   ]
  },
  {
   "cell_type": "code",
   "execution_count": 1,
   "id": "ee6d1129",
   "metadata": {},
   "outputs": [],
   "source": [
    "import pandas as pd\n",
    "import numpy as np\n",
    "import seaborn as sns\n",
    "import matplotlib\n",
    "import matplotlib.pyplot as plt\n",
    "import os\n",
    "import warnings\n",
    "warnings.filterwarnings(\"ignore\")\n",
    "import sklearn\n",
    "from sklearn.model_selection import train_test_split \n",
    "from sklearn.linear_model import LinearRegression\n",
    "from sklearn.metrics import mean_squared_error, r2_score"
   ]
  },
  {
   "cell_type": "code",
   "execution_count": 2,
   "id": "d0695806",
   "metadata": {},
   "outputs": [],
   "source": [
    "# define path to csv file\n",
    "\n",
    "path = r'/Users/jsok/US Education Analysis'"
   ]
  },
  {
   "cell_type": "code",
   "execution_count": 3,
   "id": "01403bba",
   "metadata": {},
   "outputs": [],
   "source": [
    "# define path to JSON\n",
    "\n",
    "state_geo = r'/Users/jsok/US Education Analysis/02 Data/us-states.json'"
   ]
  },
  {
   "cell_type": "code",
   "execution_count": 4,
   "id": "ea3077a9",
   "metadata": {},
   "outputs": [],
   "source": [
    "# read csv file\n",
    "\n",
    "educ = pd.read_csv(os.path.join(path,'02 Data','states_all_new3.csv'), index_col=0)"
   ]
  },
  {
   "cell_type": "markdown",
   "id": "57fa7cbc",
   "metadata": {},
   "source": [
    "## 2. Wrangle & clean data set"
   ]
  },
  {
   "cell_type": "code",
   "execution_count": 5,
   "id": "88a4bd06",
   "metadata": {},
   "outputs": [
    {
     "data": {
      "text/plain": [
       "Index(['State', 'Year', 'Total_Revenue', 'Total_Expenditure', 'Net',\n",
       "       'Grade_PK', 'Grades_All', 'Grade_12', 'Avg_Math_4_Score',\n",
       "       'Avg_Math_8_Score', 'Avg_Reading_4_Score', 'Avg_Reading_8_Score',\n",
       "       'us_region'],\n",
       "      dtype='object')"
      ]
     },
     "execution_count": 5,
     "metadata": {},
     "output_type": "execute_result"
    }
   ],
   "source": [
    "educ.columns"
   ]
  },
  {
   "cell_type": "markdown",
   "id": "eb00d093",
   "metadata": {},
   "source": [
    "##### Missing data"
   ]
  },
  {
   "cell_type": "code",
   "execution_count": 6,
   "id": "434511da",
   "metadata": {},
   "outputs": [
    {
     "data": {
      "text/plain": [
       "State                     0\n",
       "Year                      0\n",
       "Total_Revenue           400\n",
       "Total_Expenditure       400\n",
       "Net                       0\n",
       "Grade_PK                140\n",
       "Grades_All               50\n",
       "Grade_12                 50\n",
       "Avg_Math_4_Score       1117\n",
       "Avg_Math_8_Score       1081\n",
       "Avg_Reading_4_Score    1036\n",
       "Avg_Reading_8_Score    1121\n",
       "us_region                 0\n",
       "dtype: int64"
      ]
     },
     "execution_count": 6,
     "metadata": {},
     "output_type": "execute_result"
    }
   ],
   "source": [
    "# Check for null data\n",
    "\n",
    "educ.isnull().sum()"
   ]
  },
  {
   "cell_type": "markdown",
   "id": "23d008f3",
   "metadata": {},
   "source": [
    "###### Null values are part of this data set: \n",
    "- Years recorded: 1986-2019\n",
    "- Financial data recorded from 1992-2016\n",
    "- Enrollment data recorded from 1986-2017\n",
    "- Test data recorded sparsely\n",
    "- No data recorded for 2018"
   ]
  },
  {
   "cell_type": "markdown",
   "id": "a442a529",
   "metadata": {},
   "source": [
    "##### Duplicate data"
   ]
  },
  {
   "cell_type": "code",
   "execution_count": 7,
   "id": "efdf7de6",
   "metadata": {},
   "outputs": [],
   "source": [
    "# Check for duplicate data\n",
    "\n",
    "dups = educ.duplicated()"
   ]
  },
  {
   "cell_type": "code",
   "execution_count": 8,
   "id": "bbca589e",
   "metadata": {},
   "outputs": [
    {
     "data": {
      "text/plain": [
       "(1646,)"
      ]
     },
     "execution_count": 8,
     "metadata": {},
     "output_type": "execute_result"
    }
   ],
   "source": [
    "dups.shape\n",
    "\n",
    "# No missing values"
   ]
  },
  {
   "cell_type": "markdown",
   "id": "def43dbf",
   "metadata": {},
   "source": [
    "##### Extreme values check"
   ]
  },
  {
   "cell_type": "code",
   "execution_count": 9,
   "id": "aaa1ea09",
   "metadata": {},
   "outputs": [
    {
     "data": {
      "text/plain": [
       "<Axes: xlabel='Grades_All', ylabel='Density'>"
      ]
     },
     "execution_count": 9,
     "metadata": {},
     "output_type": "execute_result"
    },
    {
     "data": {
      "image/png": "[encoded data removed]",
      "text/plain": [
       "<Figure size 640x480 with 1 Axes>"
      ]
     },
     "metadata": {},
     "output_type": "display_data"
    }
   ],
   "source": [
    "# check for outliers or extreme values in enrollment: 'Grades_All'\n",
    "\n",
    "sns.distplot(educ['Grades_All'], bins=30) # Shows extreme values"
   ]
  },
  {
   "cell_type": "code",
   "execution_count": 10,
   "id": "b0474564",
   "metadata": {},
   "outputs": [
    {
     "data": {
      "text/plain": [
       "count    1.596000e+03\n",
       "mean     9.202809e+05\n",
       "std      1.037712e+06\n",
       "min      8.440900e+04\n",
       "25%      2.807270e+05\n",
       "50%      6.573110e+05\n",
       "75%      1.046178e+06\n",
       "max      6.441557e+06\n",
       "Name: Grades_All, dtype: float64"
      ]
     },
     "execution_count": 10,
     "metadata": {},
     "output_type": "execute_result"
    }
   ],
   "source": [
    "educ['Grades_All'].describe()"
   ]
  },
  {
   "cell_type": "code",
   "execution_count": 11,
   "id": "8487bd5b",
   "metadata": {},
   "outputs": [
    {
     "data": {
      "text/plain": [
       "<Axes: xlabel='Total_Revenue', ylabel='Density'>"
      ]
     },
     "execution_count": 11,
     "metadata": {},
     "output_type": "execute_result"
    },
    {
     "data": {
      "image/png": "[encoded data removed]",
      "text/plain": [
       "<Figure size 640x480 with 1 Axes>"
      ]
     },
     "metadata": {},
     "output_type": "display_data"
    }
   ],
   "source": [
    "# check for outliers or extreme values in enrollment: 'Grades_All'\n",
    "\n",
    "sns.distplot(educ['Total_Revenue'], bins=30) # Shows extreme values"
   ]
  },
  {
   "cell_type": "code",
   "execution_count": 12,
   "id": "a2013ba5",
   "metadata": {},
   "outputs": [
    {
     "data": {
      "text/plain": [
       "count    1.246000e+03\n",
       "mean     9.088810e+06\n",
       "std      1.139443e+07\n",
       "min      4.656500e+05\n",
       "25%      2.285962e+06\n",
       "50%      5.212646e+06\n",
       "75%      1.097140e+07\n",
       "max      7.824804e+07\n",
       "Name: Total_Revenue, dtype: float64"
      ]
     },
     "execution_count": 12,
     "metadata": {},
     "output_type": "execute_result"
    }
   ],
   "source": [
    "educ['Total_Revenue'].describe()"
   ]
  },
  {
   "cell_type": "markdown",
   "id": "ea9adc00",
   "metadata": {},
   "source": [
    "##### Columns seem to be more right-skewed, likely due to the fact that more data was recorded for smaller schools/towns (which explains the lower total enrollment, revenue, and expenditure). "
   ]
  },
  {
   "cell_type": "markdown",
   "id": "07127f84",
   "metadata": {},
   "source": [
    "#### Create Subsets for Years"
   ]
  },
  {
   "cell_type": "code",
   "execution_count": 13,
   "id": "16ca6c8a",
   "metadata": {
    "scrolled": false
   },
   "outputs": [],
   "source": [
    "# Subset for Test data\n",
    "# filter for rows with non-null values in the Test score columns\n",
    "\n",
    "math8 = educ[educ[['Avg_Math_8_Score']].notnull().all(1) & educ[['Total_Revenue']].notnull().all(1)]  \n",
    "reading8 = educ[educ[['Avg_Reading_8_Score']].notnull().all(1) & educ[['Total_Revenue']].notnull().all(1)]  "
   ]
  },
  {
   "cell_type": "markdown",
   "id": "9d06fd22",
   "metadata": {},
   "source": [
    "## 3. Explore data visually via Scatterplot"
   ]
  },
  {
   "cell_type": "code",
   "execution_count": 14,
   "id": "0f91667f",
   "metadata": {},
   "outputs": [
    {
     "data": {
      "image/png": "[encoded data removed]",
      "text/plain": [
       "<Figure size 640x480 with 1 Axes>"
      ]
     },
     "metadata": {},
     "output_type": "display_data"
    }
   ],
   "source": [
    "# Create a scatterplot for 'Total_Revenue' & 'Avg_Math_8_Score'\n",
    "# Style='o' creates scatterplot\n",
    "\n",
    "math8.plot(x = 'Total_Revenue', y='Avg_Math_8_Score',style='o') \n",
    "plt.title('Education Revenue vs. Math 8 Test Score')  \n",
    "plt.xlabel('Education Revenue')  \n",
    "plt.ylabel('Math 8 Test Score')  \n",
    "plt.show()\n",
    "\n",
    "# ensure the visual image fits\n",
    "from matplotlib import rcParams\n",
    "rcParams.update({'figure.autolayout': True}) "
   ]
  },
  {
   "cell_type": "code",
   "execution_count": 15,
   "id": "8f320261",
   "metadata": {},
   "outputs": [
    {
     "data": {
      "image/png": "[encoded data removed]",
      "text/plain": [
       "<Figure size 640x480 with 1 Axes>"
      ]
     },
     "metadata": {},
     "output_type": "display_data"
    }
   ],
   "source": [
    "# Create a scatterplot for 'Total_Revenue' & 'Avg_Reading_8_Score'\n",
    "# Style='o' creates scatterplot\n",
    "\n",
    "reading8.plot(x = 'Total_Revenue', y='Avg_Reading_8_Score',style='o') \n",
    "plt.title('Education Revenue vs. Reading 8 Test Score')  \n",
    "plt.xlabel('Education Revenue')  \n",
    "plt.ylabel('Reading 8 Test Score')  \n",
    "plt.show()\n",
    "\n",
    "# ensure the visual image fits\n",
    "from matplotlib import rcParams\n",
    "rcParams.update({'figure.autolayout': True}) "
   ]
  },
  {
   "cell_type": "markdown",
   "id": "c85055bf",
   "metadata": {},
   "source": [
    "## 4. Hypothesis\n",
    "##### - Education Revenue has little to no effect on Test Scores."
   ]
  },
  {
   "cell_type": "markdown",
   "id": "37c07799",
   "metadata": {},
   "source": [
    "## 5. Linear Regression"
   ]
  },
  {
   "cell_type": "markdown",
   "id": "c3df2813",
   "metadata": {},
   "source": [
    "#### Total Revenue vs. Math 8 Test Score"
   ]
  },
  {
   "cell_type": "code",
   "execution_count": 16,
   "id": "3c570ab4",
   "metadata": {},
   "outputs": [],
   "source": [
    "# Reshape the variables into NumPy arrays and put them into separate objects.\n",
    "\n",
    "X = math8['Total_Revenue'].values.reshape(-1,1)\n",
    "y = math8['Avg_Math_8_Score'].values.reshape(-1,1)"
   ]
  },
  {
   "cell_type": "code",
   "execution_count": 17,
   "id": "5ed35b66",
   "metadata": {},
   "outputs": [],
   "source": [
    "# Create a regression object to be fit onto training set\n",
    "\n",
    "regression_math8 = LinearRegression()"
   ]
  },
  {
   "cell_type": "code",
   "execution_count": 18,
   "id": "28b90f8a",
   "metadata": {},
   "outputs": [],
   "source": [
    "# Split data into a training set and a test set.\n",
    "\n",
    "X_train, X_test, y_train, y_test = train_test_split(X, y, test_size=0.3, random_state=0)"
   ]
  },
  {
   "cell_type": "code",
   "execution_count": 19,
   "id": "8fc15049",
   "metadata": {},
   "outputs": [
    {
     "data": {
      "text/html": [
       "<style>#sk-container-id-1 {color: black;background-color: white;}#sk-container-id-1 pre{padding: 0;}#sk-container-id-1 div.sk-toggleable {background-color: white;}#sk-container-id-1 label.sk-toggleable__label {cursor: pointer;display: block;width: 100%;margin-bottom: 0;padding: 0.3em;box-sizing: border-box;text-align: center;}#sk-container-id-1 label.sk-toggleable__label-arrow:before {content: \"▸\";float: left;margin-right: 0.25em;color: #696969;}#sk-container-id-1 label.sk-toggleable__label-arrow:hover:before {color: black;}#sk-container-id-1 div.sk-estimator:hover label.sk-toggleable__label-arrow:before {color: black;}#sk-container-id-1 div.sk-toggleable__content {max-height: 0;max-width: 0;overflow: hidden;text-align: left;background-color: #f0f8ff;}#sk-container-id-1 div.sk-toggleable__content pre {margin: 0.2em;color: black;border-radius: 0.25em;background-color: #f0f8ff;}#sk-container-id-1 input.sk-toggleable__control:checked~div.sk-toggleable__content {max-height: 200px;max-width: 100%;overflow: auto;}#sk-container-id-1 input.sk-toggleable__control:checked~label.sk-toggleable__label-arrow:before {content: \"▾\";}#sk-container-id-1 div.sk-estimator input.sk-toggleable__control:checked~label.sk-toggleable__label {background-color: #d4ebff;}#sk-container-id-1 div.sk-label input.sk-toggleable__control:checked~label.sk-toggleable__label {background-color: #d4ebff;}#sk-container-id-1 input.sk-hidden--visually {border: 0;clip: rect(1px 1px 1px 1px);clip: rect(1px, 1px, 1px, 1px);height: 1px;margin: -1px;overflow: hidden;padding: 0;position: absolute;width: 1px;}#sk-container-id-1 div.sk-estimator {font-family: monospace;background-color: #f0f8ff;border: 1px dotted black;border-radius: 0.25em;box-sizing: border-box;margin-bottom: 0.5em;}#sk-container-id-1 div.sk-estimator:hover {background-color: #d4ebff;}#sk-container-id-1 div.sk-parallel-item::after {content: \"\";width: 100%;border-bottom: 1px solid gray;flex-grow: 1;}#sk-container-id-1 div.sk-label:hover label.sk-toggleable__label {background-color: #d4ebff;}#sk-container-id-1 div.sk-serial::before {content: \"\";position: absolute;border-left: 1px solid gray;box-sizing: border-box;top: 0;bottom: 0;left: 50%;z-index: 0;}#sk-container-id-1 div.sk-serial {display: flex;flex-direction: column;align-items: center;background-color: white;padding-right: 0.2em;padding-left: 0.2em;position: relative;}#sk-container-id-1 div.sk-item {position: relative;z-index: 1;}#sk-container-id-1 div.sk-parallel {display: flex;align-items: stretch;justify-content: center;background-color: white;position: relative;}#sk-container-id-1 div.sk-item::before, #sk-container-id-1 div.sk-parallel-item::before {content: \"\";position: absolute;border-left: 1px solid gray;box-sizing: border-box;top: 0;bottom: 0;left: 50%;z-index: -1;}#sk-container-id-1 div.sk-parallel-item {display: flex;flex-direction: column;z-index: 1;position: relative;background-color: white;}#sk-container-id-1 div.sk-parallel-item:first-child::after {align-self: flex-end;width: 50%;}#sk-container-id-1 div.sk-parallel-item:last-child::after {align-self: flex-start;width: 50%;}#sk-container-id-1 div.sk-parallel-item:only-child::after {width: 0;}#sk-container-id-1 div.sk-dashed-wrapped {border: 1px dashed gray;margin: 0 0.4em 0.5em 0.4em;box-sizing: border-box;padding-bottom: 0.4em;background-color: white;}#sk-container-id-1 div.sk-label label {font-family: monospace;font-weight: bold;display: inline-block;line-height: 1.2em;}#sk-container-id-1 div.sk-label-container {text-align: center;}#sk-container-id-1 div.sk-container {/* jupyter's `normalize.less` sets `[hidden] { display: none; }` but bootstrap.min.css set `[hidden] { display: none !important; }` so we also need the `!important` here to be able to override the default hidden behavior on the sphinx rendered scikit-learn.org. See: https://github.com/scikit-learn/scikit-learn/issues/21755 */display: inline-block !important;position: relative;}#sk-container-id-1 div.sk-text-repr-fallback {display: none;}</style><div id=\"sk-container-id-1\" class=\"sk-top-container\"><div class=\"sk-text-repr-fallback\"><pre>LinearRegression()</pre><b>In a Jupyter environment, please rerun this cell to show the HTML representation or trust the notebook. <br />On GitHub, the HTML representation is unable to render, please try loading this page with nbviewer.org.</b></div><div class=\"sk-container\" hidden><div class=\"sk-item\"><div class=\"sk-estimator sk-toggleable\"><input class=\"sk-toggleable__control sk-hidden--visually\" id=\"sk-estimator-id-1\" type=\"checkbox\" checked><label for=\"sk-estimator-id-1\" class=\"sk-toggleable__label sk-toggleable__label-arrow\">LinearRegression</label><div class=\"sk-toggleable__content\"><pre>LinearRegression()</pre></div></div></div></div></div>"
      ],
      "text/plain": [
       "LinearRegression()"
      ]
     },
     "execution_count": 19,
     "metadata": {},
     "output_type": "execute_result"
    }
   ],
   "source": [
    "# Fit the regression object onto the training set.\n",
    "\n",
    "regression_math8.fit(X_train, y_train)"
   ]
  },
  {
   "cell_type": "code",
   "execution_count": 20,
   "id": "f6f7cb9a",
   "metadata": {},
   "outputs": [],
   "source": [
    "# Predict the values of y using X\n",
    "\n",
    "y_predicted = regression_math8.predict(X_test)"
   ]
  },
  {
   "cell_type": "code",
   "execution_count": 21,
   "id": "0c639fbc",
   "metadata": {},
   "outputs": [
    {
     "data": {
      "image/png": "[encoded data removed]",
      "text/plain": [
       "<Figure size 640x480 with 1 Axes>"
      ]
     },
     "metadata": {},
     "output_type": "display_data"
    }
   ],
   "source": [
    "# Create a plot that shows the regression line from the model on the test set.\n",
    "\n",
    "plot_test = plt\n",
    "plot_test.scatter(X_test, y_test, color='black', s = 10)\n",
    "plot_test.plot(X_test, y_predicted, color='red', linewidth =3)\n",
    "plot_test.title('Total Revenue vs Math 8 Score (Test set)')\n",
    "plot_test.xlabel('Total Revenue')\n",
    "plot_test.ylabel('Math 8 Score')\n",
    "plot_test.show()"
   ]
  },
  {
   "cell_type": "code",
   "execution_count": 22,
   "id": "2c9672a4",
   "metadata": {},
   "outputs": [],
   "source": [
    "# Create objects that contain the model summary statistics.\n",
    "\n",
    "rmse_math8 = mean_squared_error(y_test, y_predicted) # root mean squared error\n",
    "r2_math8 = r2_score(y_test, y_predicted) # This is the R2 score (variance)"
   ]
  },
  {
   "cell_type": "code",
   "execution_count": 23,
   "id": "e82e8f39",
   "metadata": {},
   "outputs": [
    {
     "name": "stdout",
     "output_type": "stream",
     "text": [
      "Slope: [[4.02834873e-08]]\n",
      "Mean squared error:  94.55473554613182\n",
      "R2 score:  0.006259107498579275\n"
     ]
    }
   ],
   "source": [
    "# Print the model summary statistics. This is where you evaluate the performance of the model.\n",
    "\n",
    "print('Slope:' ,regression_math8.coef_)\n",
    "print('Mean squared error: ', rmse_math8)\n",
    "print('R2 score: ', r2_math8)"
   ]
  },
  {
   "cell_type": "markdown",
   "id": "191138dc",
   "metadata": {},
   "source": [
    "#### Comparing Actual vs. Predicted y values:"
   ]
  },
  {
   "cell_type": "code",
   "execution_count": 24,
   "id": "e9cd8a10",
   "metadata": {
    "scrolled": true
   },
   "outputs": [
    {
     "data": {
      "text/html": [
       "<div>\n",
       "<style scoped>\n",
       "    .dataframe tbody tr th:only-of-type {\n",
       "        vertical-align: middle;\n",
       "    }\n",
       "\n",
       "    .dataframe tbody tr th {\n",
       "        vertical-align: top;\n",
       "    }\n",
       "\n",
       "    .dataframe thead th {\n",
       "        text-align: right;\n",
       "    }\n",
       "</style>\n",
       "<table border=\"1\" class=\"dataframe\">\n",
       "  <thead>\n",
       "    <tr style=\"text-align: right;\">\n",
       "      <th></th>\n",
       "      <th>Actual</th>\n",
       "      <th>Predicted</th>\n",
       "    </tr>\n",
       "  </thead>\n",
       "  <tbody>\n",
       "    <tr>\n",
       "      <th>0</th>\n",
       "      <td>289.0</td>\n",
       "      <td>279.371830</td>\n",
       "    </tr>\n",
       "    <tr>\n",
       "      <th>1</th>\n",
       "      <td>263.0</td>\n",
       "      <td>279.007586</td>\n",
       "    </tr>\n",
       "    <tr>\n",
       "      <th>2</th>\n",
       "      <td>281.0</td>\n",
       "      <td>278.959625</td>\n",
       "    </tr>\n",
       "    <tr>\n",
       "      <th>3</th>\n",
       "      <td>286.0</td>\n",
       "      <td>279.467886</td>\n",
       "    </tr>\n",
       "    <tr>\n",
       "      <th>4</th>\n",
       "      <td>275.0</td>\n",
       "      <td>278.922038</td>\n",
       "    </tr>\n",
       "    <tr>\n",
       "      <th>5</th>\n",
       "      <td>287.0</td>\n",
       "      <td>278.940459</td>\n",
       "    </tr>\n",
       "    <tr>\n",
       "      <th>6</th>\n",
       "      <td>269.0</td>\n",
       "      <td>278.996229</td>\n",
       "    </tr>\n",
       "    <tr>\n",
       "      <th>7</th>\n",
       "      <td>282.0</td>\n",
       "      <td>278.989947</td>\n",
       "    </tr>\n",
       "    <tr>\n",
       "      <th>8</th>\n",
       "      <td>270.0</td>\n",
       "      <td>279.036610</td>\n",
       "    </tr>\n",
       "    <tr>\n",
       "      <th>9</th>\n",
       "      <td>284.0</td>\n",
       "      <td>278.968469</td>\n",
       "    </tr>\n",
       "    <tr>\n",
       "      <th>10</th>\n",
       "      <td>271.0</td>\n",
       "      <td>279.050315</td>\n",
       "    </tr>\n",
       "    <tr>\n",
       "      <th>11</th>\n",
       "      <td>283.0</td>\n",
       "      <td>278.976542</td>\n",
       "    </tr>\n",
       "    <tr>\n",
       "      <th>12</th>\n",
       "      <td>277.0</td>\n",
       "      <td>280.303113</td>\n",
       "    </tr>\n",
       "    <tr>\n",
       "      <th>13</th>\n",
       "      <td>286.0</td>\n",
       "      <td>279.076958</td>\n",
       "    </tr>\n",
       "    <tr>\n",
       "      <th>14</th>\n",
       "      <td>286.0</td>\n",
       "      <td>280.674208</td>\n",
       "    </tr>\n",
       "    <tr>\n",
       "      <th>15</th>\n",
       "      <td>265.0</td>\n",
       "      <td>279.064350</td>\n",
       "    </tr>\n",
       "    <tr>\n",
       "      <th>16</th>\n",
       "      <td>285.0</td>\n",
       "      <td>279.043325</td>\n",
       "    </tr>\n",
       "    <tr>\n",
       "      <th>17</th>\n",
       "      <td>288.0</td>\n",
       "      <td>278.933206</td>\n",
       "    </tr>\n",
       "    <tr>\n",
       "      <th>18</th>\n",
       "      <td>291.0</td>\n",
       "      <td>278.939695</td>\n",
       "    </tr>\n",
       "    <tr>\n",
       "      <th>19</th>\n",
       "      <td>271.0</td>\n",
       "      <td>279.072417</td>\n",
       "    </tr>\n",
       "    <tr>\n",
       "      <th>20</th>\n",
       "      <td>289.0</td>\n",
       "      <td>278.994186</td>\n",
       "    </tr>\n",
       "    <tr>\n",
       "      <th>21</th>\n",
       "      <td>280.0</td>\n",
       "      <td>279.850082</td>\n",
       "    </tr>\n",
       "    <tr>\n",
       "      <th>22</th>\n",
       "      <td>295.0</td>\n",
       "      <td>279.324445</td>\n",
       "    </tr>\n",
       "    <tr>\n",
       "      <th>23</th>\n",
       "      <td>265.0</td>\n",
       "      <td>279.018668</td>\n",
       "    </tr>\n",
       "    <tr>\n",
       "      <th>24</th>\n",
       "      <td>268.0</td>\n",
       "      <td>279.114269</td>\n",
       "    </tr>\n",
       "    <tr>\n",
       "      <th>25</th>\n",
       "      <td>281.0</td>\n",
       "      <td>279.165792</td>\n",
       "    </tr>\n",
       "    <tr>\n",
       "      <th>26</th>\n",
       "      <td>271.0</td>\n",
       "      <td>280.172727</td>\n",
       "    </tr>\n",
       "    <tr>\n",
       "      <th>27</th>\n",
       "      <td>284.0</td>\n",
       "      <td>279.815002</td>\n",
       "    </tr>\n",
       "    <tr>\n",
       "      <th>28</th>\n",
       "      <td>280.0</td>\n",
       "      <td>281.213944</td>\n",
       "    </tr>\n",
       "    <tr>\n",
       "      <th>29</th>\n",
       "      <td>283.0</td>\n",
       "      <td>278.994733</td>\n",
       "    </tr>\n",
       "    <tr>\n",
       "      <th>30</th>\n",
       "      <td>290.0</td>\n",
       "      <td>279.090373</td>\n",
       "    </tr>\n",
       "    <tr>\n",
       "      <th>31</th>\n",
       "      <td>283.0</td>\n",
       "      <td>278.955699</td>\n",
       "    </tr>\n",
       "    <tr>\n",
       "      <th>32</th>\n",
       "      <td>276.0</td>\n",
       "      <td>279.240302</td>\n",
       "    </tr>\n",
       "    <tr>\n",
       "      <th>33</th>\n",
       "      <td>290.0</td>\n",
       "      <td>280.942812</td>\n",
       "    </tr>\n",
       "    <tr>\n",
       "      <th>34</th>\n",
       "      <td>286.0</td>\n",
       "      <td>279.357729</td>\n",
       "    </tr>\n",
       "    <tr>\n",
       "      <th>35</th>\n",
       "      <td>286.0</td>\n",
       "      <td>278.939510</td>\n",
       "    </tr>\n",
       "    <tr>\n",
       "      <th>36</th>\n",
       "      <td>274.0</td>\n",
       "      <td>279.083683</td>\n",
       "    </tr>\n",
       "    <tr>\n",
       "      <th>37</th>\n",
       "      <td>281.0</td>\n",
       "      <td>279.200535</td>\n",
       "    </tr>\n",
       "    <tr>\n",
       "      <th>38</th>\n",
       "      <td>287.0</td>\n",
       "      <td>279.443926</td>\n",
       "    </tr>\n",
       "    <tr>\n",
       "      <th>39</th>\n",
       "      <td>282.0</td>\n",
       "      <td>279.174653</td>\n",
       "    </tr>\n",
       "    <tr>\n",
       "      <th>40</th>\n",
       "      <td>287.0</td>\n",
       "      <td>278.971613</td>\n",
       "    </tr>\n",
       "    <tr>\n",
       "      <th>41</th>\n",
       "      <td>276.0</td>\n",
       "      <td>279.223420</td>\n",
       "    </tr>\n",
       "    <tr>\n",
       "      <th>42</th>\n",
       "      <td>291.0</td>\n",
       "      <td>278.944033</td>\n",
       "    </tr>\n",
       "    <tr>\n",
       "      <th>43</th>\n",
       "      <td>288.0</td>\n",
       "      <td>279.458495</td>\n",
       "    </tr>\n",
       "    <tr>\n",
       "      <th>44</th>\n",
       "      <td>279.0</td>\n",
       "      <td>278.936036</td>\n",
       "    </tr>\n",
       "    <tr>\n",
       "      <th>45</th>\n",
       "      <td>286.0</td>\n",
       "      <td>278.968614</td>\n",
       "    </tr>\n",
       "    <tr>\n",
       "      <th>46</th>\n",
       "      <td>271.0</td>\n",
       "      <td>279.156324</td>\n",
       "    </tr>\n",
       "    <tr>\n",
       "      <th>47</th>\n",
       "      <td>271.0</td>\n",
       "      <td>279.161601</td>\n",
       "    </tr>\n",
       "    <tr>\n",
       "      <th>48</th>\n",
       "      <td>272.0</td>\n",
       "      <td>279.171368</td>\n",
       "    </tr>\n",
       "    <tr>\n",
       "      <th>49</th>\n",
       "      <td>287.0</td>\n",
       "      <td>278.922988</td>\n",
       "    </tr>\n",
       "  </tbody>\n",
       "</table>\n",
       "</div>"
      ],
      "text/plain": [
       "    Actual   Predicted\n",
       "0    289.0  279.371830\n",
       "1    263.0  279.007586\n",
       "2    281.0  278.959625\n",
       "3    286.0  279.467886\n",
       "4    275.0  278.922038\n",
       "5    287.0  278.940459\n",
       "6    269.0  278.996229\n",
       "7    282.0  278.989947\n",
       "8    270.0  279.036610\n",
       "9    284.0  278.968469\n",
       "10   271.0  279.050315\n",
       "11   283.0  278.976542\n",
       "12   277.0  280.303113\n",
       "13   286.0  279.076958\n",
       "14   286.0  280.674208\n",
       "15   265.0  279.064350\n",
       "16   285.0  279.043325\n",
       "17   288.0  278.933206\n",
       "18   291.0  278.939695\n",
       "19   271.0  279.072417\n",
       "20   289.0  278.994186\n",
       "21   280.0  279.850082\n",
       "22   295.0  279.324445\n",
       "23   265.0  279.018668\n",
       "24   268.0  279.114269\n",
       "25   281.0  279.165792\n",
       "26   271.0  280.172727\n",
       "27   284.0  279.815002\n",
       "28   280.0  281.213944\n",
       "29   283.0  278.994733\n",
       "30   290.0  279.090373\n",
       "31   283.0  278.955699\n",
       "32   276.0  279.240302\n",
       "33   290.0  280.942812\n",
       "34   286.0  279.357729\n",
       "35   286.0  278.939510\n",
       "36   274.0  279.083683\n",
       "37   281.0  279.200535\n",
       "38   287.0  279.443926\n",
       "39   282.0  279.174653\n",
       "40   287.0  278.971613\n",
       "41   276.0  279.223420\n",
       "42   291.0  278.944033\n",
       "43   288.0  279.458495\n",
       "44   279.0  278.936036\n",
       "45   286.0  278.968614\n",
       "46   271.0  279.156324\n",
       "47   271.0  279.161601\n",
       "48   272.0  279.171368\n",
       "49   287.0  278.922988"
      ]
     },
     "execution_count": 24,
     "metadata": {},
     "output_type": "execute_result"
    }
   ],
   "source": [
    "data_math8 = pd.DataFrame({'Actual': y_test.flatten(), 'Predicted': y_predicted.flatten()})\n",
    "data_math8.head(50)"
   ]
  },
  {
   "cell_type": "markdown",
   "id": "7b3cf28a",
   "metadata": {},
   "source": [
    "#### Total Revenue vs. Reading 8 Test Score"
   ]
  },
  {
   "cell_type": "code",
   "execution_count": 25,
   "id": "8111af13",
   "metadata": {},
   "outputs": [],
   "source": [
    "# Reshape the variables into NumPy arrays and put them into separate objects.\n",
    "\n",
    "XX = reading8['Total_Revenue'].values.reshape(-1,1)\n",
    "yy = reading8['Avg_Reading_8_Score'].values.reshape(-1,1)"
   ]
  },
  {
   "cell_type": "code",
   "execution_count": 26,
   "id": "70166de4",
   "metadata": {},
   "outputs": [],
   "source": [
    "# Create a regression object to be fit onto training set\n",
    "\n",
    "regression_reading8 = LinearRegression()"
   ]
  },
  {
   "cell_type": "code",
   "execution_count": 27,
   "id": "46be1dea",
   "metadata": {},
   "outputs": [],
   "source": [
    "# Split data into a training set and a test set.\n",
    "\n",
    "XX_train, XX_test, yy_train, yy_test = train_test_split(XX, yy, test_size=0.3, random_state=0)"
   ]
  },
  {
   "cell_type": "code",
   "execution_count": 28,
   "id": "3103c09b",
   "metadata": {},
   "outputs": [
    {
     "data": {
      "text/html": [
       "<style>#sk-container-id-2 {color: black;background-color: white;}#sk-container-id-2 pre{padding: 0;}#sk-container-id-2 div.sk-toggleable {background-color: white;}#sk-container-id-2 label.sk-toggleable__label {cursor: pointer;display: block;width: 100%;margin-bottom: 0;padding: 0.3em;box-sizing: border-box;text-align: center;}#sk-container-id-2 label.sk-toggleable__label-arrow:before {content: \"▸\";float: left;margin-right: 0.25em;color: #696969;}#sk-container-id-2 label.sk-toggleable__label-arrow:hover:before {color: black;}#sk-container-id-2 div.sk-estimator:hover label.sk-toggleable__label-arrow:before {color: black;}#sk-container-id-2 div.sk-toggleable__content {max-height: 0;max-width: 0;overflow: hidden;text-align: left;background-color: #f0f8ff;}#sk-container-id-2 div.sk-toggleable__content pre {margin: 0.2em;color: black;border-radius: 0.25em;background-color: #f0f8ff;}#sk-container-id-2 input.sk-toggleable__control:checked~div.sk-toggleable__content {max-height: 200px;max-width: 100%;overflow: auto;}#sk-container-id-2 input.sk-toggleable__control:checked~label.sk-toggleable__label-arrow:before {content: \"▾\";}#sk-container-id-2 div.sk-estimator input.sk-toggleable__control:checked~label.sk-toggleable__label {background-color: #d4ebff;}#sk-container-id-2 div.sk-label input.sk-toggleable__control:checked~label.sk-toggleable__label {background-color: #d4ebff;}#sk-container-id-2 input.sk-hidden--visually {border: 0;clip: rect(1px 1px 1px 1px);clip: rect(1px, 1px, 1px, 1px);height: 1px;margin: -1px;overflow: hidden;padding: 0;position: absolute;width: 1px;}#sk-container-id-2 div.sk-estimator {font-family: monospace;background-color: #f0f8ff;border: 1px dotted black;border-radius: 0.25em;box-sizing: border-box;margin-bottom: 0.5em;}#sk-container-id-2 div.sk-estimator:hover {background-color: #d4ebff;}#sk-container-id-2 div.sk-parallel-item::after {content: \"\";width: 100%;border-bottom: 1px solid gray;flex-grow: 1;}#sk-container-id-2 div.sk-label:hover label.sk-toggleable__label {background-color: #d4ebff;}#sk-container-id-2 div.sk-serial::before {content: \"\";position: absolute;border-left: 1px solid gray;box-sizing: border-box;top: 0;bottom: 0;left: 50%;z-index: 0;}#sk-container-id-2 div.sk-serial {display: flex;flex-direction: column;align-items: center;background-color: white;padding-right: 0.2em;padding-left: 0.2em;position: relative;}#sk-container-id-2 div.sk-item {position: relative;z-index: 1;}#sk-container-id-2 div.sk-parallel {display: flex;align-items: stretch;justify-content: center;background-color: white;position: relative;}#sk-container-id-2 div.sk-item::before, #sk-container-id-2 div.sk-parallel-item::before {content: \"\";position: absolute;border-left: 1px solid gray;box-sizing: border-box;top: 0;bottom: 0;left: 50%;z-index: -1;}#sk-container-id-2 div.sk-parallel-item {display: flex;flex-direction: column;z-index: 1;position: relative;background-color: white;}#sk-container-id-2 div.sk-parallel-item:first-child::after {align-self: flex-end;width: 50%;}#sk-container-id-2 div.sk-parallel-item:last-child::after {align-self: flex-start;width: 50%;}#sk-container-id-2 div.sk-parallel-item:only-child::after {width: 0;}#sk-container-id-2 div.sk-dashed-wrapped {border: 1px dashed gray;margin: 0 0.4em 0.5em 0.4em;box-sizing: border-box;padding-bottom: 0.4em;background-color: white;}#sk-container-id-2 div.sk-label label {font-family: monospace;font-weight: bold;display: inline-block;line-height: 1.2em;}#sk-container-id-2 div.sk-label-container {text-align: center;}#sk-container-id-2 div.sk-container {/* jupyter's `normalize.less` sets `[hidden] { display: none; }` but bootstrap.min.css set `[hidden] { display: none !important; }` so we also need the `!important` here to be able to override the default hidden behavior on the sphinx rendered scikit-learn.org. See: https://github.com/scikit-learn/scikit-learn/issues/21755 */display: inline-block !important;position: relative;}#sk-container-id-2 div.sk-text-repr-fallback {display: none;}</style><div id=\"sk-container-id-2\" class=\"sk-top-container\"><div class=\"sk-text-repr-fallback\"><pre>LinearRegression()</pre><b>In a Jupyter environment, please rerun this cell to show the HTML representation or trust the notebook. <br />On GitHub, the HTML representation is unable to render, please try loading this page with nbviewer.org.</b></div><div class=\"sk-container\" hidden><div class=\"sk-item\"><div class=\"sk-estimator sk-toggleable\"><input class=\"sk-toggleable__control sk-hidden--visually\" id=\"sk-estimator-id-2\" type=\"checkbox\" checked><label for=\"sk-estimator-id-2\" class=\"sk-toggleable__label sk-toggleable__label-arrow\">LinearRegression</label><div class=\"sk-toggleable__content\"><pre>LinearRegression()</pre></div></div></div></div></div>"
      ],
      "text/plain": [
       "LinearRegression()"
      ]
     },
     "execution_count": 28,
     "metadata": {},
     "output_type": "execute_result"
    }
   ],
   "source": [
    "# Fit the regression object onto the training set.\n",
    "\n",
    "regression_reading8.fit(XX_train, yy_train)"
   ]
  },
  {
   "cell_type": "code",
   "execution_count": 29,
   "id": "88819f81",
   "metadata": {},
   "outputs": [],
   "source": [
    "# Predict the values of yy using XX\n",
    "\n",
    "yy_predicted = regression_reading8.predict(XX_test)"
   ]
  },
  {
   "cell_type": "code",
   "execution_count": 30,
   "id": "dda75d48",
   "metadata": {},
   "outputs": [
    {
     "data": {
      "image/png": "[encoded data removed]",
      "text/plain": [
       "<Figure size 640x480 with 1 Axes>"
      ]
     },
     "metadata": {},
     "output_type": "display_data"
    }
   ],
   "source": [
    "# Create a plot that shows the regression line from the model on the test set.\n",
    "\n",
    "plot_test = plt\n",
    "plot_test.scatter(XX_test, yy_test, color='orange', s = 10)\n",
    "plot_test.plot(XX_test, yy_predicted, color='blue', linewidth =3)\n",
    "plot_test.title('Total Revenue vs Reading 8 Score (Test set)')\n",
    "plot_test.xlabel('Total Revenue')\n",
    "plot_test.ylabel('Reading 8 Score')\n",
    "plot_test.show()"
   ]
  },
  {
   "cell_type": "code",
   "execution_count": 31,
   "id": "7bd302c7",
   "metadata": {},
   "outputs": [],
   "source": [
    "# Create objects that contain the model summary statistics.\n",
    "\n",
    "rmse_reading8 = mean_squared_error(yy_test, yy_predicted) # root mean squared error\n",
    "r2_reading8 = r2_score(yy_test, yy_predicted) # This is the R2 score (variance)"
   ]
  },
  {
   "cell_type": "code",
   "execution_count": 32,
   "id": "92f88697",
   "metadata": {
    "scrolled": true
   },
   "outputs": [
    {
     "name": "stdout",
     "output_type": "stream",
     "text": [
      "Slope: [[-3.34198444e-08]]\n",
      "Mean squared error:  34.553076064542054\n",
      "R2 score:  -0.00648317556186373\n"
     ]
    }
   ],
   "source": [
    "# Print the model summary statistics. This is where you evaluate the performance of the model.\n",
    "\n",
    "print('Slope:' ,regression_reading8.coef_)\n",
    "print('Mean squared error: ', rmse_reading8)\n",
    "print('R2 score: ', r2_reading8)"
   ]
  },
  {
   "cell_type": "markdown",
   "id": "629ab90d",
   "metadata": {},
   "source": [
    "#### Comparing Actual vs. Predicted y values:"
   ]
  },
  {
   "cell_type": "code",
   "execution_count": 33,
   "id": "c009a131",
   "metadata": {
    "scrolled": true
   },
   "outputs": [
    {
     "data": {
      "text/html": [
       "<div>\n",
       "<style scoped>\n",
       "    .dataframe tbody tr th:only-of-type {\n",
       "        vertical-align: middle;\n",
       "    }\n",
       "\n",
       "    .dataframe tbody tr th {\n",
       "        vertical-align: top;\n",
       "    }\n",
       "\n",
       "    .dataframe thead th {\n",
       "        text-align: right;\n",
       "    }\n",
       "</style>\n",
       "<table border=\"1\" class=\"dataframe\">\n",
       "  <thead>\n",
       "    <tr style=\"text-align: right;\">\n",
       "      <th></th>\n",
       "      <th>Actual</th>\n",
       "      <th>Predicted</th>\n",
       "    </tr>\n",
       "  </thead>\n",
       "  <tbody>\n",
       "    <tr>\n",
       "      <th>0</th>\n",
       "      <td>258.0</td>\n",
       "      <td>263.925933</td>\n",
       "    </tr>\n",
       "    <tr>\n",
       "      <th>1</th>\n",
       "      <td>270.0</td>\n",
       "      <td>264.052381</td>\n",
       "    </tr>\n",
       "    <tr>\n",
       "      <th>2</th>\n",
       "      <td>255.0</td>\n",
       "      <td>263.983535</td>\n",
       "    </tr>\n",
       "    <tr>\n",
       "      <th>3</th>\n",
       "      <td>259.0</td>\n",
       "      <td>263.648209</td>\n",
       "    </tr>\n",
       "    <tr>\n",
       "      <th>4</th>\n",
       "      <td>268.0</td>\n",
       "      <td>263.977583</td>\n",
       "    </tr>\n",
       "    <tr>\n",
       "      <th>5</th>\n",
       "      <td>255.0</td>\n",
       "      <td>263.981274</td>\n",
       "    </tr>\n",
       "    <tr>\n",
       "      <th>6</th>\n",
       "      <td>268.0</td>\n",
       "      <td>264.046946</td>\n",
       "    </tr>\n",
       "    <tr>\n",
       "      <th>7</th>\n",
       "      <td>273.0</td>\n",
       "      <td>263.198809</td>\n",
       "    </tr>\n",
       "    <tr>\n",
       "      <th>8</th>\n",
       "      <td>262.0</td>\n",
       "      <td>263.482221</td>\n",
       "    </tr>\n",
       "    <tr>\n",
       "      <th>9</th>\n",
       "      <td>269.0</td>\n",
       "      <td>264.019184</td>\n",
       "    </tr>\n",
       "    <tr>\n",
       "      <th>10</th>\n",
       "      <td>258.0</td>\n",
       "      <td>264.020824</td>\n",
       "    </tr>\n",
       "    <tr>\n",
       "      <th>11</th>\n",
       "      <td>261.0</td>\n",
       "      <td>263.645414</td>\n",
       "    </tr>\n",
       "    <tr>\n",
       "      <th>12</th>\n",
       "      <td>268.0</td>\n",
       "      <td>263.733735</td>\n",
       "    </tr>\n",
       "    <tr>\n",
       "      <th>13</th>\n",
       "      <td>270.0</td>\n",
       "      <td>263.999958</td>\n",
       "    </tr>\n",
       "    <tr>\n",
       "      <th>14</th>\n",
       "      <td>251.0</td>\n",
       "      <td>263.937999</td>\n",
       "    </tr>\n",
       "    <tr>\n",
       "      <th>15</th>\n",
       "      <td>269.0</td>\n",
       "      <td>264.046345</td>\n",
       "    </tr>\n",
       "    <tr>\n",
       "      <th>16</th>\n",
       "      <td>262.0</td>\n",
       "      <td>263.946698</td>\n",
       "    </tr>\n",
       "    <tr>\n",
       "      <th>17</th>\n",
       "      <td>261.0</td>\n",
       "      <td>262.602435</td>\n",
       "    </tr>\n",
       "    <tr>\n",
       "      <th>18</th>\n",
       "      <td>259.0</td>\n",
       "      <td>263.794702</td>\n",
       "    </tr>\n",
       "    <tr>\n",
       "      <th>19</th>\n",
       "      <td>274.0</td>\n",
       "      <td>263.739911</td>\n",
       "    </tr>\n",
       "    <tr>\n",
       "      <th>20</th>\n",
       "      <td>274.0</td>\n",
       "      <td>263.623097</td>\n",
       "    </tr>\n",
       "    <tr>\n",
       "      <th>21</th>\n",
       "      <td>267.0</td>\n",
       "      <td>263.911182</td>\n",
       "    </tr>\n",
       "    <tr>\n",
       "      <th>22</th>\n",
       "      <td>259.0</td>\n",
       "      <td>263.907369</td>\n",
       "    </tr>\n",
       "    <tr>\n",
       "      <th>23</th>\n",
       "      <td>260.0</td>\n",
       "      <td>263.928535</td>\n",
       "    </tr>\n",
       "    <tr>\n",
       "      <th>24</th>\n",
       "      <td>257.0</td>\n",
       "      <td>263.877840</td>\n",
       "    </tr>\n",
       "    <tr>\n",
       "      <th>25</th>\n",
       "      <td>256.0</td>\n",
       "      <td>263.308894</td>\n",
       "    </tr>\n",
       "    <tr>\n",
       "      <th>26</th>\n",
       "      <td>268.0</td>\n",
       "      <td>263.925283</td>\n",
       "    </tr>\n",
       "    <tr>\n",
       "      <th>27</th>\n",
       "      <td>258.0</td>\n",
       "      <td>263.713884</td>\n",
       "    </tr>\n",
       "    <tr>\n",
       "      <th>28</th>\n",
       "      <td>263.0</td>\n",
       "      <td>263.603219</td>\n",
       "    </tr>\n",
       "    <tr>\n",
       "      <th>29</th>\n",
       "      <td>252.0</td>\n",
       "      <td>263.936283</td>\n",
       "    </tr>\n",
       "    <tr>\n",
       "      <th>30</th>\n",
       "      <td>272.0</td>\n",
       "      <td>263.986294</td>\n",
       "    </tr>\n",
       "    <tr>\n",
       "      <th>31</th>\n",
       "      <td>263.0</td>\n",
       "      <td>264.017372</td>\n",
       "    </tr>\n",
       "    <tr>\n",
       "      <th>32</th>\n",
       "      <td>258.0</td>\n",
       "      <td>263.937201</td>\n",
       "    </tr>\n",
       "    <tr>\n",
       "      <th>33</th>\n",
       "      <td>267.0</td>\n",
       "      <td>263.946383</td>\n",
       "    </tr>\n",
       "    <tr>\n",
       "      <th>34</th>\n",
       "      <td>268.0</td>\n",
       "      <td>264.028779</td>\n",
       "    </tr>\n",
       "    <tr>\n",
       "      <th>35</th>\n",
       "      <td>270.0</td>\n",
       "      <td>264.006824</td>\n",
       "    </tr>\n",
       "    <tr>\n",
       "      <th>36</th>\n",
       "      <td>262.0</td>\n",
       "      <td>263.793997</td>\n",
       "    </tr>\n",
       "    <tr>\n",
       "      <th>37</th>\n",
       "      <td>269.0</td>\n",
       "      <td>264.041415</td>\n",
       "    </tr>\n",
       "    <tr>\n",
       "      <th>38</th>\n",
       "      <td>277.0</td>\n",
       "      <td>263.546229</td>\n",
       "    </tr>\n",
       "    <tr>\n",
       "      <th>39</th>\n",
       "      <td>259.0</td>\n",
       "      <td>263.830207</td>\n",
       "    </tr>\n",
       "    <tr>\n",
       "      <th>40</th>\n",
       "      <td>262.0</td>\n",
       "      <td>263.463686</td>\n",
       "    </tr>\n",
       "    <tr>\n",
       "      <th>41</th>\n",
       "      <td>253.0</td>\n",
       "      <td>263.971769</td>\n",
       "    </tr>\n",
       "    <tr>\n",
       "      <th>42</th>\n",
       "      <td>268.0</td>\n",
       "      <td>264.037816</td>\n",
       "    </tr>\n",
       "    <tr>\n",
       "      <th>43</th>\n",
       "      <td>268.0</td>\n",
       "      <td>263.668486</td>\n",
       "    </tr>\n",
       "    <tr>\n",
       "      <th>44</th>\n",
       "      <td>269.0</td>\n",
       "      <td>263.826564</td>\n",
       "    </tr>\n",
       "    <tr>\n",
       "      <th>45</th>\n",
       "      <td>259.0</td>\n",
       "      <td>263.911789</td>\n",
       "    </tr>\n",
       "    <tr>\n",
       "      <th>46</th>\n",
       "      <td>264.0</td>\n",
       "      <td>262.890085</td>\n",
       "    </tr>\n",
       "    <tr>\n",
       "      <th>47</th>\n",
       "      <td>266.0</td>\n",
       "      <td>264.020267</td>\n",
       "    </tr>\n",
       "    <tr>\n",
       "      <th>48</th>\n",
       "      <td>269.0</td>\n",
       "      <td>263.927539</td>\n",
       "    </tr>\n",
       "    <tr>\n",
       "      <th>49</th>\n",
       "      <td>264.0</td>\n",
       "      <td>263.931318</td>\n",
       "    </tr>\n",
       "  </tbody>\n",
       "</table>\n",
       "</div>"
      ],
      "text/plain": [
       "    Actual   Predicted\n",
       "0    258.0  263.925933\n",
       "1    270.0  264.052381\n",
       "2    255.0  263.983535\n",
       "3    259.0  263.648209\n",
       "4    268.0  263.977583\n",
       "5    255.0  263.981274\n",
       "6    268.0  264.046946\n",
       "7    273.0  263.198809\n",
       "8    262.0  263.482221\n",
       "9    269.0  264.019184\n",
       "10   258.0  264.020824\n",
       "11   261.0  263.645414\n",
       "12   268.0  263.733735\n",
       "13   270.0  263.999958\n",
       "14   251.0  263.937999\n",
       "15   269.0  264.046345\n",
       "16   262.0  263.946698\n",
       "17   261.0  262.602435\n",
       "18   259.0  263.794702\n",
       "19   274.0  263.739911\n",
       "20   274.0  263.623097\n",
       "21   267.0  263.911182\n",
       "22   259.0  263.907369\n",
       "23   260.0  263.928535\n",
       "24   257.0  263.877840\n",
       "25   256.0  263.308894\n",
       "26   268.0  263.925283\n",
       "27   258.0  263.713884\n",
       "28   263.0  263.603219\n",
       "29   252.0  263.936283\n",
       "30   272.0  263.986294\n",
       "31   263.0  264.017372\n",
       "32   258.0  263.937201\n",
       "33   267.0  263.946383\n",
       "34   268.0  264.028779\n",
       "35   270.0  264.006824\n",
       "36   262.0  263.793997\n",
       "37   269.0  264.041415\n",
       "38   277.0  263.546229\n",
       "39   259.0  263.830207\n",
       "40   262.0  263.463686\n",
       "41   253.0  263.971769\n",
       "42   268.0  264.037816\n",
       "43   268.0  263.668486\n",
       "44   269.0  263.826564\n",
       "45   259.0  263.911789\n",
       "46   264.0  262.890085\n",
       "47   266.0  264.020267\n",
       "48   269.0  263.927539\n",
       "49   264.0  263.931318"
      ]
     },
     "execution_count": 33,
     "metadata": {},
     "output_type": "execute_result"
    }
   ],
   "source": [
    "data_reading8 = pd.DataFrame({'Actual': yy_test.flatten(), 'Predicted': yy_predicted.flatten()})\n",
    "data_reading8.head(50)"
   ]
  },
  {
   "cell_type": "markdown",
   "id": "f6c146b4",
   "metadata": {},
   "source": [
    "## 6. Interpretation & next steps"
   ]
  },
  {
   "cell_type": "markdown",
   "id": "b52c56f6",
   "metadata": {},
   "source": [
    "### - The line of best fit is quite far from the true data values.  And while the axes scaling is drastically different, the R2 scores (Math 8: 0.006259, Reading 8: -0.006483) indicate very poor fits, as R2 is much closer to 0 than it is to 1.\n",
    "### - Also, the Actual values vary considerably from the Predicted values, which is another indicator that this relationship is not ideal to include in the final analysis.\n",
    "### - Some bias that could be present is definitely sample bias.  As expressed in \"2. Wrangle & Clean data set,\" null values are present throughout because data is recorded inconsistenly, misrepresentative of the actual Education data population.  Also, the quantity of data is lobsided, with many more data points recorded below a certain Revenue threshold.  "
   ]
  },
  {
   "cell_type": "markdown",
   "id": "f8d0a20f",
   "metadata": {},
   "source": [
    "## 7. Export Data"
   ]
  },
  {
   "cell_type": "code",
   "execution_count": 34,
   "id": "df6184be",
   "metadata": {},
   "outputs": [],
   "source": [
    "# Export csv file\n",
    "\n",
    "educ.to_csv(os.path.join(path, '02 Data', 'states_all_new4.csv'))"
   ]
  }
 ],
 "metadata": {
  "kernelspec": {
   "display_name": "Python 3 (ipykernel)",
   "language": "python",
   "name": "python3"
  },
  "language_info": {
   "codemirror_mode": {
    "name": "ipython",
    "version": 3
   },
   "file_extension": ".py",
   "mimetype": "text/x-python",
   "name": "python",
   "nbconvert_exporter": "python",
   "pygments_lexer": "ipython3",
   "version": "3.10.9"
  }
 },
 "nbformat": 4,
 "nbformat_minor": 5
}
